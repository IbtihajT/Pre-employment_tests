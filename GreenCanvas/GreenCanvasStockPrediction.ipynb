{
  "nbformat": 4,
  "nbformat_minor": 0,
  "metadata": {
    "colab": {
      "name": "GreenCanvasStockPrediction.ipynb",
      "provenance": [],
      "collapsed_sections": [],
      "toc_visible": true
    },
    "kernelspec": {
      "name": "python3",
      "display_name": "Python 3"
    },
    "language_info": {
      "name": "python"
    },
    "accelerator": "GPU"
  },
  "cells": [
    {
      "cell_type": "code",
      "metadata": {
        "id": "bQQ_s49pusSl"
      },
      "source": [
        "# Import Required Libararies\n",
        "\n",
        "import math\n",
        "import numpy as np\n",
        "import matplotlib.pyplot as plt\n",
        "import pandas as pd\n",
        "import pandas_datareader as pdr\n",
        "from sklearn.preprocessing import MinMaxScaler\n",
        "from tensorflow.keras.models import Sequential\n",
        "from tensorflow.keras.layers import Dense, LSTM\n",
        "plt.style.use('fivethirtyeight')"
      ],
      "execution_count": 1,
      "outputs": []
    },
    {
      "cell_type": "markdown",
      "metadata": {
        "id": "1-hZTD9k70Iw"
      },
      "source": [
        "## 1: Data gathering and Analysis"
      ]
    },
    {
      "cell_type": "markdown",
      "metadata": {
        "id": "8oNq8EihOkNu"
      },
      "source": [
        "For the purpose of obtaining the data, we can use `Yahoo` as our data source. Let's get the data for the Apple Stock `AAPL` for 10 years (April 18, 2011 - April 18, 2020). We will use `pandas_datareader` to obtain the data with the disccussed specs."
      ]
    },
    {
      "cell_type": "code",
      "metadata": {
        "id": "d8dY-SK9w2Mi"
      },
      "source": [
        "# Get the data for S&P500 for 10 Years\n",
        "raw_df = pdr.DataReader('AAPL', data_source='yahoo', start='2011-04-18', end='2021-04-18')"
      ],
      "execution_count": 2,
      "outputs": []
    },
    {
      "cell_type": "markdown",
      "metadata": {
        "id": "QdPGGdtNPKO-"
      },
      "source": [
        "We see that we have obtained a total of `2,516` datapoints that have 6 features like `High`, `Low` and etc. Notice how the date is up till 16th. That is because 17, 18 is Saturday and Sunday and no data is recorded for these 22 days."
      ]
    },
    {
      "cell_type": "code",
      "metadata": {
        "colab": {
          "base_uri": "https://localhost:8080/",
          "height": 450
        },
        "id": "8KNyz5LDzDJE",
        "outputId": "5493eca5-6b0e-4a7c-a2d1-2c05a9692078"
      },
      "source": [
        "# Show the head of the data\n",
        "raw_df"
      ],
      "execution_count": 3,
      "outputs": [
        {
          "output_type": "execute_result",
          "data": {
            "text/html": [
              "<div>\n",
              "<style scoped>\n",
              "    .dataframe tbody tr th:only-of-type {\n",
              "        vertical-align: middle;\n",
              "    }\n",
              "\n",
              "    .dataframe tbody tr th {\n",
              "        vertical-align: top;\n",
              "    }\n",
              "\n",
              "    .dataframe thead th {\n",
              "        text-align: right;\n",
              "    }\n",
              "</style>\n",
              "<table border=\"1\" class=\"dataframe\">\n",
              "  <thead>\n",
              "    <tr style=\"text-align: right;\">\n",
              "      <th></th>\n",
              "      <th>High</th>\n",
              "      <th>Low</th>\n",
              "      <th>Open</th>\n",
              "      <th>Close</th>\n",
              "      <th>Volume</th>\n",
              "      <th>Adj Close</th>\n",
              "    </tr>\n",
              "    <tr>\n",
              "      <th>Date</th>\n",
              "      <th></th>\n",
              "      <th></th>\n",
              "      <th></th>\n",
              "      <th></th>\n",
              "      <th></th>\n",
              "      <th></th>\n",
              "    </tr>\n",
              "  </thead>\n",
              "  <tbody>\n",
              "    <tr>\n",
              "      <th>2011-04-18</th>\n",
              "      <td>11.865357</td>\n",
              "      <td>11.434286</td>\n",
              "      <td>11.646429</td>\n",
              "      <td>11.851786</td>\n",
              "      <td>609898800.0</td>\n",
              "      <td>10.208694</td>\n",
              "    </tr>\n",
              "    <tr>\n",
              "      <th>2011-04-19</th>\n",
              "      <td>12.070714</td>\n",
              "      <td>11.846786</td>\n",
              "      <td>11.896429</td>\n",
              "      <td>12.066429</td>\n",
              "      <td>419378400.0</td>\n",
              "      <td>10.393581</td>\n",
              "    </tr>\n",
              "    <tr>\n",
              "      <th>2011-04-20</th>\n",
              "      <td>12.348214</td>\n",
              "      <td>12.196429</td>\n",
              "      <td>12.268214</td>\n",
              "      <td>12.228929</td>\n",
              "      <td>700666400.0</td>\n",
              "      <td>10.533554</td>\n",
              "    </tr>\n",
              "    <tr>\n",
              "      <th>2011-04-21</th>\n",
              "      <td>12.683214</td>\n",
              "      <td>12.447143</td>\n",
              "      <td>12.678571</td>\n",
              "      <td>12.525000</td>\n",
              "      <td>753810400.0</td>\n",
              "      <td>10.788577</td>\n",
              "    </tr>\n",
              "    <tr>\n",
              "      <th>2011-04-25</th>\n",
              "      <td>12.633929</td>\n",
              "      <td>12.510714</td>\n",
              "      <td>12.512143</td>\n",
              "      <td>12.607500</td>\n",
              "      <td>266546000.0</td>\n",
              "      <td>10.859639</td>\n",
              "    </tr>\n",
              "    <tr>\n",
              "      <th>...</th>\n",
              "      <td>...</td>\n",
              "      <td>...</td>\n",
              "      <td>...</td>\n",
              "      <td>...</td>\n",
              "      <td>...</td>\n",
              "      <td>...</td>\n",
              "    </tr>\n",
              "    <tr>\n",
              "      <th>2021-04-12</th>\n",
              "      <td>132.850006</td>\n",
              "      <td>130.630005</td>\n",
              "      <td>132.520004</td>\n",
              "      <td>131.240005</td>\n",
              "      <td>91420000.0</td>\n",
              "      <td>131.240005</td>\n",
              "    </tr>\n",
              "    <tr>\n",
              "      <th>2021-04-13</th>\n",
              "      <td>134.660004</td>\n",
              "      <td>131.929993</td>\n",
              "      <td>132.440002</td>\n",
              "      <td>134.429993</td>\n",
              "      <td>91266500.0</td>\n",
              "      <td>134.429993</td>\n",
              "    </tr>\n",
              "    <tr>\n",
              "      <th>2021-04-14</th>\n",
              "      <td>135.000000</td>\n",
              "      <td>131.660004</td>\n",
              "      <td>134.940002</td>\n",
              "      <td>132.029999</td>\n",
              "      <td>87222800.0</td>\n",
              "      <td>132.029999</td>\n",
              "    </tr>\n",
              "    <tr>\n",
              "      <th>2021-04-15</th>\n",
              "      <td>135.000000</td>\n",
              "      <td>133.639999</td>\n",
              "      <td>133.820007</td>\n",
              "      <td>134.500000</td>\n",
              "      <td>89347100.0</td>\n",
              "      <td>134.500000</td>\n",
              "    </tr>\n",
              "    <tr>\n",
              "      <th>2021-04-16</th>\n",
              "      <td>134.669998</td>\n",
              "      <td>133.279999</td>\n",
              "      <td>134.300003</td>\n",
              "      <td>134.160004</td>\n",
              "      <td>84818500.0</td>\n",
              "      <td>134.160004</td>\n",
              "    </tr>\n",
              "  </tbody>\n",
              "</table>\n",
              "<p>2516 rows × 6 columns</p>\n",
              "</div>"
            ],
            "text/plain": [
              "                  High         Low  ...       Volume   Adj Close\n",
              "Date                                ...                         \n",
              "2011-04-18   11.865357   11.434286  ...  609898800.0   10.208694\n",
              "2011-04-19   12.070714   11.846786  ...  419378400.0   10.393581\n",
              "2011-04-20   12.348214   12.196429  ...  700666400.0   10.533554\n",
              "2011-04-21   12.683214   12.447143  ...  753810400.0   10.788577\n",
              "2011-04-25   12.633929   12.510714  ...  266546000.0   10.859639\n",
              "...                ...         ...  ...          ...         ...\n",
              "2021-04-12  132.850006  130.630005  ...   91420000.0  131.240005\n",
              "2021-04-13  134.660004  131.929993  ...   91266500.0  134.429993\n",
              "2021-04-14  135.000000  131.660004  ...   87222800.0  132.029999\n",
              "2021-04-15  135.000000  133.639999  ...   89347100.0  134.500000\n",
              "2021-04-16  134.669998  133.279999  ...   84818500.0  134.160004\n",
              "\n",
              "[2516 rows x 6 columns]"
            ]
          },
          "metadata": {
            "tags": []
          },
          "execution_count": 3
        }
      ]
    },
    {
      "cell_type": "markdown",
      "metadata": {
        "id": "nEwxuWcCPzzl"
      },
      "source": [
        "We can also do some statistical analysis that gives us an idea about the distribution of the data like `mean`, `standard-deviation` and the `percentiles`."
      ]
    },
    {
      "cell_type": "code",
      "metadata": {
        "colab": {
          "base_uri": "https://localhost:8080/",
          "height": 297
        },
        "id": "yeBosiKI0X_v",
        "outputId": "0f04c4fa-3e90-4a9a-811f-28c9aa2630c9"
      },
      "source": [
        "# Some Statistical analysis\n",
        "raw_df.describe()"
      ],
      "execution_count": 4,
      "outputs": [
        {
          "output_type": "execute_result",
          "data": {
            "text/html": [
              "<div>\n",
              "<style scoped>\n",
              "    .dataframe tbody tr th:only-of-type {\n",
              "        vertical-align: middle;\n",
              "    }\n",
              "\n",
              "    .dataframe tbody tr th {\n",
              "        vertical-align: top;\n",
              "    }\n",
              "\n",
              "    .dataframe thead th {\n",
              "        text-align: right;\n",
              "    }\n",
              "</style>\n",
              "<table border=\"1\" class=\"dataframe\">\n",
              "  <thead>\n",
              "    <tr style=\"text-align: right;\">\n",
              "      <th></th>\n",
              "      <th>High</th>\n",
              "      <th>Low</th>\n",
              "      <th>Open</th>\n",
              "      <th>Close</th>\n",
              "      <th>Volume</th>\n",
              "      <th>Adj Close</th>\n",
              "    </tr>\n",
              "  </thead>\n",
              "  <tbody>\n",
              "    <tr>\n",
              "      <th>count</th>\n",
              "      <td>2516.000000</td>\n",
              "      <td>2516.000000</td>\n",
              "      <td>2516.000000</td>\n",
              "      <td>2516.000000</td>\n",
              "      <td>2.516000e+03</td>\n",
              "      <td>2516.000000</td>\n",
              "    </tr>\n",
              "    <tr>\n",
              "      <th>mean</th>\n",
              "      <td>39.972993</td>\n",
              "      <td>39.134884</td>\n",
              "      <td>39.558157</td>\n",
              "      <td>39.569388</td>\n",
              "      <td>2.442051e+08</td>\n",
              "      <td>37.868910</td>\n",
              "    </tr>\n",
              "    <tr>\n",
              "      <th>std</th>\n",
              "      <td>28.949612</td>\n",
              "      <td>28.150609</td>\n",
              "      <td>28.572168</td>\n",
              "      <td>28.567736</td>\n",
              "      <td>1.930939e+08</td>\n",
              "      <td>29.173653</td>\n",
              "    </tr>\n",
              "    <tr>\n",
              "      <th>min</th>\n",
              "      <td>11.346429</td>\n",
              "      <td>11.089286</td>\n",
              "      <td>11.310000</td>\n",
              "      <td>11.261429</td>\n",
              "      <td>4.544800e+07</td>\n",
              "      <td>9.700181</td>\n",
              "    </tr>\n",
              "    <tr>\n",
              "      <th>25%</th>\n",
              "      <td>20.905357</td>\n",
              "      <td>20.422501</td>\n",
              "      <td>20.636607</td>\n",
              "      <td>20.671786</td>\n",
              "      <td>1.112856e+08</td>\n",
              "      <td>17.989075</td>\n",
              "    </tr>\n",
              "    <tr>\n",
              "      <th>50%</th>\n",
              "      <td>29.347500</td>\n",
              "      <td>28.875000</td>\n",
              "      <td>29.111250</td>\n",
              "      <td>29.071250</td>\n",
              "      <td>1.748130e+08</td>\n",
              "      <td>27.018014</td>\n",
              "    </tr>\n",
              "    <tr>\n",
              "      <th>75%</th>\n",
              "      <td>47.117501</td>\n",
              "      <td>46.434374</td>\n",
              "      <td>46.704374</td>\n",
              "      <td>46.758126</td>\n",
              "      <td>3.140806e+08</td>\n",
              "      <td>45.500306</td>\n",
              "    </tr>\n",
              "    <tr>\n",
              "      <th>max</th>\n",
              "      <td>145.089996</td>\n",
              "      <td>141.369995</td>\n",
              "      <td>143.600006</td>\n",
              "      <td>143.160004</td>\n",
              "      <td>1.506120e+09</td>\n",
              "      <td>142.946396</td>\n",
              "    </tr>\n",
              "  </tbody>\n",
              "</table>\n",
              "</div>"
            ],
            "text/plain": [
              "              High          Low  ...        Volume    Adj Close\n",
              "count  2516.000000  2516.000000  ...  2.516000e+03  2516.000000\n",
              "mean     39.972993    39.134884  ...  2.442051e+08    37.868910\n",
              "std      28.949612    28.150609  ...  1.930939e+08    29.173653\n",
              "min      11.346429    11.089286  ...  4.544800e+07     9.700181\n",
              "25%      20.905357    20.422501  ...  1.112856e+08    17.989075\n",
              "50%      29.347500    28.875000  ...  1.748130e+08    27.018014\n",
              "75%      47.117501    46.434374  ...  3.140806e+08    45.500306\n",
              "max     145.089996   141.369995  ...  1.506120e+09   142.946396\n",
              "\n",
              "[8 rows x 6 columns]"
            ]
          },
          "metadata": {
            "tags": []
          },
          "execution_count": 4
        }
      ]
    },
    {
      "cell_type": "markdown",
      "metadata": {
        "id": "2Nf2OQ3gQJUQ"
      },
      "source": [
        "We are interested in the prediction of the `Closing` price of the stock so let's plot the `Close` feaature."
      ]
    },
    {
      "cell_type": "code",
      "metadata": {
        "colab": {
          "base_uri": "https://localhost:8080/",
          "height": 513
        },
        "id": "qk-WiJ6n0gJ0",
        "outputId": "236d4596-5fa5-4992-dfe6-cb5bba12cf46"
      },
      "source": [
        "# Plot the Closing Price for the Stock\n",
        "plt.figure(figsize=(16, 8))\n",
        "plt.title('Close price history AAPL')\n",
        "plt.plot(raw_df['Close'])\n",
        "plt.xlabel('Date')\n",
        "plt.ylabel('Price USD ($)')\n",
        "plt.show()"
      ],
      "execution_count": 5,
      "outputs": [
        {
          "output_type": "display_data",
          "data": {
            "image/png": "[encoded data removed]",
            "text/plain": [
              "<Figure size 1152x576 with 1 Axes>"
            ]
          },
          "metadata": {
            "tags": [],
            "needs_background": "light"
          }
        }
      ]
    },
    {
      "cell_type": "markdown",
      "metadata": {
        "id": "xj6hdLD98BGE"
      },
      "source": [
        "## 2: Data Preprocessing "
      ]
    },
    {
      "cell_type": "markdown",
      "metadata": {
        "id": "IcaQnyxPQZ8H"
      },
      "source": [
        "We need some sort of windowing method that can generate features and targets from a univariate variable `Close`. We want to observe `some number of days` and based on the observation we want to predict the price for the next day. So we create a function `process_data` that takes in `data` and `number_of_days` as parameters and generates the features and target based on the `number_of_days` provided. \n",
        "\n",
        "So given an array of 6 numbers i.e `[1, 2, 3, 4, 5, 6]` and a `look_back` of 2, we can generate data like\n",
        "\n",
        "| Pairs | Target |\n",
        "| -: | -: |\n",
        "| 1, 2 | 3 |\n",
        "| 2, 3 | 4 |\n",
        "| 3, 4 | 5 |\n",
        "| 4, 5 | 6 |\n"
      ]
    },
    {
      "cell_type": "code",
      "metadata": {
        "id": "rx4A0cHtE_3k"
      },
      "source": [
        "# Method to create dataset for LSTM\n",
        "def process_data(data, number_of_days=1):\n",
        "\n",
        "  # Processed Dataholders\n",
        "  datapoints, targets = [], []\n",
        "\n",
        "  for i in range(number_of_days, len(data)):\n",
        "\n",
        "    # Get chunks based on the `number_of_days`\n",
        "    chunk = data[i - number_of_days: i, 0]\n",
        "\n",
        "    # Get target against the generated chunk\n",
        "    target = data[i, 0]\n",
        "    \n",
        "    # Append the chunk and target to corresponding holders\n",
        "    datapoints.append(chunk)\n",
        "    targets.append(target)\n",
        "  \n",
        "  # Cast to numpy and return\n",
        "  return (np.array(datapoints), np.array(targets))"
      ],
      "execution_count": 6,
      "outputs": []
    },
    {
      "cell_type": "markdown",
      "metadata": {
        "id": "kOtVOfIYSRWJ"
      },
      "source": [
        "Let's Get the `Close` feature from the dataframe and also cast to `numpy` array"
      ]
    },
    {
      "cell_type": "code",
      "metadata": {
        "id": "DYgz_Rbr5Gus"
      },
      "source": [
        "# Get the `Close` feature and convert to numpy array\n",
        "close_price_df = raw_df.filter(['Close'])\n",
        "data = close_price_df.values"
      ],
      "execution_count": 7,
      "outputs": []
    },
    {
      "cell_type": "markdown",
      "metadata": {
        "id": "I4vPCu_CSbXo"
      },
      "source": [
        "Scaaling of the data is required so we can use `MinMaxScaler` that will scale our values in the range between (0 - 1)"
      ]
    },
    {
      "cell_type": "code",
      "metadata": {
        "id": "s1iXtsAm7DGx"
      },
      "source": [
        "# Scale the data using MinMaxScaler\n",
        "scaler_object = MinMaxScaler(feature_range=(0, 1))\n",
        "data = scaler_object.fit_transform(data)"
      ],
      "execution_count": 8,
      "outputs": []
    },
    {
      "cell_type": "markdown",
      "metadata": {
        "id": "woQEQ2r1SoG_"
      },
      "source": [
        "We will observe past 90 days of data to make a prediction. We have to split our data set into training and testing sets with a ratio of 80-20 where 80 for training and 20 for testing. Once that's done, we can then use our `process_data` method to generate the features and target based on number of days for both training and testing sets."
      ]
    },
    {
      "cell_type": "code",
      "metadata": {
        "colab": {
          "base_uri": "https://localhost:8080/"
        },
        "id": "u5_lZmhfo4Nc",
        "outputId": "2a622127-b596-44c8-d186-4275d3745af8"
      },
      "source": [
        "# Generate train test data for model using 90 days (3 months)\n",
        "number_of_days = 90\n",
        "\n",
        "# Make Train-Test Split\n",
        "training_data_amount = math.ceil(len(data) * .8)\n",
        "train = data[0: training_data_amount, :]\n",
        "test = data[training_data_amount - number_of_days: , :]\n",
        "\n",
        "train_X, train_y = process_data(train, number_of_days)\n",
        "test_X, test_y = process_data(test, number_of_days)\n",
        "\n",
        "print(f\"Shape of Training Data: {train_X.shape}\")\n",
        "print(f\"Shape of Training Labels: {train_y.shape}\")\n",
        "print(f\"Shape of Test Data: {test_X.shape}\")\n",
        "print(f\"Shape of Test Labels: {test_y.shape}\")"
      ],
      "execution_count": 9,
      "outputs": [
        {
          "output_type": "stream",
          "text": [
            "Shape of Training Data: (1923, 90)\n",
            "Shape of Training Labels: (1923,)\n",
            "Shape of Test Data: (503, 90)\n",
            "Shape of Test Labels: (503,)\n"
          ],
          "name": "stdout"
        }
      ]
    },
    {
      "cell_type": "markdown",
      "metadata": {
        "id": "GOz1qDBfTUB8"
      },
      "source": [
        "LSTMs require the data to be in a `Rank 3 Tensor` that can be described as `(number_of_samples, timesteps, number_of_features)`. For the `features` part we only have 1 as we are only observing the `Close` price so we can reshape the data to be a `Rank 3 Tensor`"
      ]
    },
    {
      "cell_type": "code",
      "metadata": {
        "colab": {
          "base_uri": "https://localhost:8080/"
        },
        "id": "Xb8j50zMt2DX",
        "outputId": "7f035d91-8458-4230-f966-137741f040ee"
      },
      "source": [
        "# Reshape the data like (samples, timesteps, features)\n",
        "train_X = np.reshape(train_X, newshape=(train_X.shape[0], train_X.shape[1], 1))\n",
        "test_X = np.reshape(test_X, newshape=(test_X.shape[0], test_X.shape[1], 1))\n",
        "\n",
        "print(f\"Training Data after reshaping: {train_X.shape}\")\n",
        "print(f\"Testing Data after reshaping: {test_X.shape}\")"
      ],
      "execution_count": 10,
      "outputs": [
        {
          "output_type": "stream",
          "text": [
            "Training Data after reshaping: (1923, 90, 1)\n",
            "Testing Data after reshaping: (503, 90, 1)\n"
          ],
          "name": "stdout"
        }
      ]
    },
    {
      "cell_type": "markdown",
      "metadata": {
        "id": "g_Cy31Jrvbip"
      },
      "source": [
        "## 3: Model Creation and Training"
      ]
    },
    {
      "cell_type": "markdown",
      "metadata": {
        "id": "8BDGGRuAT4jO"
      },
      "source": [
        "We will create a `Sequential` model that will use 2 stacked `LSTM` layers with `50 neurons` each, then we will have a `fully connected Dense layer` with 25 neurons and a `fully connected dense layer` with one neuron as `output layer`. We will compile the model with `adam` optimizer and `mean_squared_error` loss."
      ]
    },
    {
      "cell_type": "code",
      "metadata": {
        "id": "qF-QmS-dvgnc"
      },
      "source": [
        "# Method to Generate a Sequential LSTM Model\n",
        "def get_LSTM_Model(input_shape):\n",
        "\n",
        "  # Sequential Model\n",
        "  model = Sequential()\n",
        "\n",
        "  # Stacked LSTM Laayers\n",
        "  model.add(LSTM(50,return_sequences=True,input_shape=input_shape))\n",
        "  model.add(LSTM(50,return_sequences=False))\n",
        "\n",
        "  # Dense Layer\n",
        "  model.add(Dense(25))\n",
        "\n",
        "  # Output Layer\n",
        "  model.add(Dense(1))\n",
        "\n",
        "  # Compile the Model\n",
        "  model.compile(\n",
        "      optimizer='adam',\n",
        "      loss='mean_squared_error',\n",
        "  )\n",
        "\n",
        "  # Print the model Summary\n",
        "  print(model.summary())\n",
        "\n",
        "  # Return the model\n",
        "  return model"
      ],
      "execution_count": 11,
      "outputs": []
    },
    {
      "cell_type": "code",
      "metadata": {
        "colab": {
          "base_uri": "https://localhost:8080/"
        },
        "id": "nXqLZRIVw57-",
        "outputId": "e7cfb63d-a737-40bd-dfc6-54738d3fc656"
      },
      "source": [
        "# Get LSTM Model\n",
        "stackedLSTM = get_LSTM_Model(train_X.shape[1:])"
      ],
      "execution_count": 12,
      "outputs": [
        {
          "output_type": "stream",
          "text": [
            "Model: \"sequential\"\n",
            "_________________________________________________________________\n",
            "Layer (type)                 Output Shape              Param #   \n",
            "=================================================================\n",
            "lstm (LSTM)                  (None, 90, 50)            10400     \n",
            "_________________________________________________________________\n",
            "lstm_1 (LSTM)                (None, 50)                20200     \n",
            "_________________________________________________________________\n",
            "dense (Dense)                (None, 25)                1275      \n",
            "_________________________________________________________________\n",
            "dense_1 (Dense)              (None, 1)                 26        \n",
            "=================================================================\n",
            "Total params: 31,901\n",
            "Trainable params: 31,901\n",
            "Non-trainable params: 0\n",
            "_________________________________________________________________\n",
            "None\n"
          ],
          "name": "stdout"
        }
      ]
    },
    {
      "cell_type": "markdown",
      "metadata": {
        "id": "7oxPAzU_VAc7"
      },
      "source": [
        "Now let's train the model for 100 epochs with a batch size of 64"
      ]
    },
    {
      "cell_type": "code",
      "metadata": {
        "colab": {
          "base_uri": "https://localhost:8080/"
        },
        "id": "5_jSnsVOxD_e",
        "outputId": "c7aa9be7-92f8-4c84-ba79-5935f40d6aa2"
      },
      "source": [
        "# Train the model\n",
        "history = stackedLSTM.fit(\n",
        "    x=train_X,\n",
        "    y=train_y,\n",
        "    validation_data=(test_X, test_y),\n",
        "    batch_size=64,\n",
        "    epochs=100,\n",
        "    use_multiprocessing=True\n",
        ")"
      ],
      "execution_count": 13,
      "outputs": [
        {
          "output_type": "stream",
          "text": [
            "Epoch 1/100\n",
            "31/31 [==============================] - 6s 42ms/step - loss: 0.0082 - val_loss: 0.0012\n",
            "Epoch 2/100\n",
            "31/31 [==============================] - 0s 10ms/step - loss: 1.8751e-04 - val_loss: 0.0012\n",
            "Epoch 3/100\n",
            "31/31 [==============================] - 0s 11ms/step - loss: 7.5099e-05 - val_loss: 0.0012\n",
            "Epoch 4/100\n",
            "31/31 [==============================] - 0s 10ms/step - loss: 7.7788e-05 - val_loss: 0.0011\n",
            "Epoch 5/100\n",
            "31/31 [==============================] - 0s 10ms/step - loss: 7.7322e-05 - val_loss: 0.0010\n",
            "Epoch 6/100\n",
            "31/31 [==============================] - 0s 11ms/step - loss: 6.7219e-05 - val_loss: 0.0011\n",
            "Epoch 7/100\n",
            "31/31 [==============================] - 0s 10ms/step - loss: 7.1080e-05 - val_loss: 0.0012\n",
            "Epoch 8/100\n",
            "31/31 [==============================] - 0s 10ms/step - loss: 6.9300e-05 - val_loss: 0.0010\n",
            "Epoch 9/100\n",
            "31/31 [==============================] - 0s 10ms/step - loss: 7.2420e-05 - val_loss: 0.0015\n",
            "Epoch 10/100\n",
            "31/31 [==============================] - 0s 11ms/step - loss: 6.5026e-05 - val_loss: 0.0014\n",
            "Epoch 11/100\n",
            "31/31 [==============================] - 0s 10ms/step - loss: 6.1739e-05 - val_loss: 0.0019\n",
            "Epoch 12/100\n",
            "31/31 [==============================] - 0s 11ms/step - loss: 6.0049e-05 - val_loss: 8.9823e-04\n",
            "Epoch 13/100\n",
            "31/31 [==============================] - 0s 10ms/step - loss: 9.3509e-05 - val_loss: 0.0012\n",
            "Epoch 14/100\n",
            "31/31 [==============================] - 0s 11ms/step - loss: 6.0414e-05 - val_loss: 0.0017\n",
            "Epoch 15/100\n",
            "31/31 [==============================] - 0s 10ms/step - loss: 5.3886e-05 - val_loss: 0.0013\n",
            "Epoch 16/100\n",
            "31/31 [==============================] - 0s 10ms/step - loss: 5.9749e-05 - val_loss: 0.0022\n",
            "Epoch 17/100\n",
            "31/31 [==============================] - 0s 10ms/step - loss: 5.9906e-05 - val_loss: 0.0014\n",
            "Epoch 18/100\n",
            "31/31 [==============================] - 0s 10ms/step - loss: 5.1028e-05 - val_loss: 0.0024\n",
            "Epoch 19/100\n",
            "31/31 [==============================] - 0s 10ms/step - loss: 5.7790e-05 - val_loss: 0.0015\n",
            "Epoch 20/100\n",
            "31/31 [==============================] - 0s 10ms/step - loss: 4.7136e-05 - val_loss: 0.0018\n",
            "Epoch 21/100\n",
            "31/31 [==============================] - 0s 10ms/step - loss: 4.8758e-05 - val_loss: 0.0011\n",
            "Epoch 22/100\n",
            "31/31 [==============================] - 0s 10ms/step - loss: 5.4170e-05 - val_loss: 0.0017\n",
            "Epoch 23/100\n",
            "31/31 [==============================] - 0s 11ms/step - loss: 5.4708e-05 - val_loss: 0.0029\n",
            "Epoch 24/100\n",
            "31/31 [==============================] - 0s 10ms/step - loss: 5.6985e-05 - val_loss: 0.0011\n",
            "Epoch 25/100\n",
            "31/31 [==============================] - 0s 11ms/step - loss: 4.6615e-05 - val_loss: 0.0023\n",
            "Epoch 26/100\n",
            "31/31 [==============================] - 0s 10ms/step - loss: 6.1130e-05 - val_loss: 0.0012\n",
            "Epoch 27/100\n",
            "31/31 [==============================] - 0s 10ms/step - loss: 4.3692e-05 - val_loss: 0.0015\n",
            "Epoch 28/100\n",
            "31/31 [==============================] - 0s 10ms/step - loss: 4.5943e-05 - val_loss: 0.0025\n",
            "Epoch 29/100\n",
            "31/31 [==============================] - 0s 10ms/step - loss: 4.9819e-05 - val_loss: 0.0012\n",
            "Epoch 30/100\n",
            "31/31 [==============================] - 0s 10ms/step - loss: 4.2897e-05 - val_loss: 0.0044\n",
            "Epoch 31/100\n",
            "31/31 [==============================] - 0s 10ms/step - loss: 6.9164e-05 - val_loss: 0.0026\n",
            "Epoch 32/100\n",
            "31/31 [==============================] - 0s 10ms/step - loss: 5.4394e-05 - val_loss: 0.0011\n",
            "Epoch 33/100\n",
            "31/31 [==============================] - 0s 10ms/step - loss: 4.0705e-05 - val_loss: 0.0015\n",
            "Epoch 34/100\n",
            "31/31 [==============================] - 0s 10ms/step - loss: 3.9141e-05 - val_loss: 0.0015\n",
            "Epoch 35/100\n",
            "31/31 [==============================] - 0s 10ms/step - loss: 3.9411e-05 - val_loss: 0.0024\n",
            "Epoch 36/100\n",
            "31/31 [==============================] - 0s 10ms/step - loss: 6.4766e-05 - val_loss: 0.0020\n",
            "Epoch 37/100\n",
            "31/31 [==============================] - 0s 11ms/step - loss: 5.2947e-05 - val_loss: 0.0018\n",
            "Epoch 38/100\n",
            "31/31 [==============================] - 0s 11ms/step - loss: 4.9405e-05 - val_loss: 0.0011\n",
            "Epoch 39/100\n",
            "31/31 [==============================] - 0s 11ms/step - loss: 4.8705e-05 - val_loss: 0.0010\n",
            "Epoch 40/100\n",
            "31/31 [==============================] - 0s 11ms/step - loss: 3.8670e-05 - val_loss: 0.0015\n",
            "Epoch 41/100\n",
            "31/31 [==============================] - 0s 10ms/step - loss: 3.7773e-05 - val_loss: 0.0025\n",
            "Epoch 42/100\n",
            "31/31 [==============================] - 0s 10ms/step - loss: 5.7309e-05 - val_loss: 9.9406e-04\n",
            "Epoch 43/100\n",
            "31/31 [==============================] - 0s 10ms/step - loss: 4.0458e-05 - val_loss: 6.9998e-04\n",
            "Epoch 44/100\n",
            "31/31 [==============================] - 0s 10ms/step - loss: 4.1441e-05 - val_loss: 0.0011\n",
            "Epoch 45/100\n",
            "31/31 [==============================] - 0s 10ms/step - loss: 3.6562e-05 - val_loss: 7.4253e-04\n",
            "Epoch 46/100\n",
            "31/31 [==============================] - 0s 10ms/step - loss: 3.6518e-05 - val_loss: 0.0011\n",
            "Epoch 47/100\n",
            "31/31 [==============================] - 0s 10ms/step - loss: 4.0050e-05 - val_loss: 9.3425e-04\n",
            "Epoch 48/100\n",
            "31/31 [==============================] - 0s 10ms/step - loss: 3.3230e-05 - val_loss: 0.0014\n",
            "Epoch 49/100\n",
            "31/31 [==============================] - 0s 10ms/step - loss: 3.9769e-05 - val_loss: 0.0014\n",
            "Epoch 50/100\n",
            "31/31 [==============================] - 0s 10ms/step - loss: 2.9129e-05 - val_loss: 0.0019\n",
            "Epoch 51/100\n",
            "31/31 [==============================] - 0s 10ms/step - loss: 3.4994e-05 - val_loss: 0.0011\n",
            "Epoch 52/100\n",
            "31/31 [==============================] - 0s 11ms/step - loss: 4.3757e-05 - val_loss: 9.5093e-04\n",
            "Epoch 53/100\n",
            "31/31 [==============================] - 0s 11ms/step - loss: 3.0894e-05 - val_loss: 5.9274e-04\n",
            "Epoch 54/100\n",
            "31/31 [==============================] - 0s 10ms/step - loss: 2.9400e-05 - val_loss: 0.0017\n",
            "Epoch 55/100\n",
            "31/31 [==============================] - 0s 10ms/step - loss: 3.5198e-05 - val_loss: 6.2986e-04\n",
            "Epoch 56/100\n",
            "31/31 [==============================] - 0s 10ms/step - loss: 3.0685e-05 - val_loss: 0.0010\n",
            "Epoch 57/100\n",
            "31/31 [==============================] - 0s 10ms/step - loss: 2.9154e-05 - val_loss: 4.7119e-04\n",
            "Epoch 58/100\n",
            "31/31 [==============================] - 0s 10ms/step - loss: 3.6695e-05 - val_loss: 4.5261e-04\n",
            "Epoch 59/100\n",
            "31/31 [==============================] - 0s 11ms/step - loss: 4.3179e-05 - val_loss: 5.8069e-04\n",
            "Epoch 60/100\n",
            "31/31 [==============================] - 0s 10ms/step - loss: 2.8382e-05 - val_loss: 4.4550e-04\n",
            "Epoch 61/100\n",
            "31/31 [==============================] - 0s 10ms/step - loss: 3.1449e-05 - val_loss: 4.6552e-04\n",
            "Epoch 62/100\n",
            "31/31 [==============================] - 0s 10ms/step - loss: 2.6687e-05 - val_loss: 7.8444e-04\n",
            "Epoch 63/100\n",
            "31/31 [==============================] - 0s 10ms/step - loss: 3.0785e-05 - val_loss: 5.5902e-04\n",
            "Epoch 64/100\n",
            "31/31 [==============================] - 0s 11ms/step - loss: 2.7285e-05 - val_loss: 4.5486e-04\n",
            "Epoch 65/100\n",
            "31/31 [==============================] - 0s 11ms/step - loss: 2.4588e-05 - val_loss: 6.8864e-04\n",
            "Epoch 66/100\n",
            "31/31 [==============================] - 0s 10ms/step - loss: 2.6139e-05 - val_loss: 5.7652e-04\n",
            "Epoch 67/100\n",
            "31/31 [==============================] - 0s 10ms/step - loss: 2.5301e-05 - val_loss: 5.8319e-04\n",
            "Epoch 68/100\n",
            "31/31 [==============================] - 0s 10ms/step - loss: 2.4244e-05 - val_loss: 6.5133e-04\n",
            "Epoch 69/100\n",
            "31/31 [==============================] - 0s 10ms/step - loss: 2.3317e-05 - val_loss: 4.5250e-04\n",
            "Epoch 70/100\n",
            "31/31 [==============================] - 0s 10ms/step - loss: 2.8319e-05 - val_loss: 8.4218e-04\n",
            "Epoch 71/100\n",
            "31/31 [==============================] - 0s 10ms/step - loss: 2.3520e-05 - val_loss: 7.4715e-04\n",
            "Epoch 72/100\n",
            "31/31 [==============================] - 0s 10ms/step - loss: 2.4101e-05 - val_loss: 7.4353e-04\n",
            "Epoch 73/100\n",
            "31/31 [==============================] - 0s 10ms/step - loss: 5.9768e-05 - val_loss: 3.7201e-04\n",
            "Epoch 74/100\n",
            "31/31 [==============================] - 0s 11ms/step - loss: 2.9244e-05 - val_loss: 3.7106e-04\n",
            "Epoch 75/100\n",
            "31/31 [==============================] - 0s 11ms/step - loss: 1.9470e-05 - val_loss: 4.8064e-04\n",
            "Epoch 76/100\n",
            "31/31 [==============================] - 0s 10ms/step - loss: 2.4018e-05 - val_loss: 5.9061e-04\n",
            "Epoch 77/100\n",
            "31/31 [==============================] - 0s 11ms/step - loss: 2.1490e-05 - val_loss: 4.7846e-04\n",
            "Epoch 78/100\n",
            "31/31 [==============================] - 0s 11ms/step - loss: 3.0277e-05 - val_loss: 4.7980e-04\n",
            "Epoch 79/100\n",
            "31/31 [==============================] - 0s 11ms/step - loss: 2.1182e-05 - val_loss: 4.4263e-04\n",
            "Epoch 80/100\n",
            "31/31 [==============================] - 0s 10ms/step - loss: 2.0535e-05 - val_loss: 8.6334e-04\n",
            "Epoch 81/100\n",
            "31/31 [==============================] - 0s 11ms/step - loss: 2.4006e-05 - val_loss: 0.0010\n",
            "Epoch 82/100\n",
            "31/31 [==============================] - 0s 10ms/step - loss: 2.3859e-05 - val_loss: 5.4884e-04\n",
            "Epoch 83/100\n",
            "31/31 [==============================] - 0s 10ms/step - loss: 2.1921e-05 - val_loss: 6.2550e-04\n",
            "Epoch 84/100\n",
            "31/31 [==============================] - 0s 10ms/step - loss: 1.8834e-05 - val_loss: 3.6322e-04\n",
            "Epoch 85/100\n",
            "31/31 [==============================] - 0s 10ms/step - loss: 3.0775e-05 - val_loss: 8.5745e-04\n",
            "Epoch 86/100\n",
            "31/31 [==============================] - 0s 10ms/step - loss: 2.3342e-05 - val_loss: 7.1409e-04\n",
            "Epoch 87/100\n",
            "31/31 [==============================] - 0s 10ms/step - loss: 2.4297e-05 - val_loss: 5.0331e-04\n",
            "Epoch 88/100\n",
            "31/31 [==============================] - 0s 10ms/step - loss: 2.0528e-05 - val_loss: 3.8299e-04\n",
            "Epoch 89/100\n",
            "31/31 [==============================] - 0s 11ms/step - loss: 2.0984e-05 - val_loss: 9.3718e-04\n",
            "Epoch 90/100\n",
            "31/31 [==============================] - 0s 10ms/step - loss: 2.0940e-05 - val_loss: 0.0019\n",
            "Epoch 91/100\n",
            "31/31 [==============================] - 0s 11ms/step - loss: 4.0476e-05 - val_loss: 6.9295e-04\n",
            "Epoch 92/100\n",
            "31/31 [==============================] - 0s 10ms/step - loss: 1.9666e-05 - val_loss: 5.3923e-04\n",
            "Epoch 93/100\n",
            "31/31 [==============================] - 0s 10ms/step - loss: 2.0889e-05 - val_loss: 4.6303e-04\n",
            "Epoch 94/100\n",
            "31/31 [==============================] - 0s 10ms/step - loss: 2.2577e-05 - val_loss: 4.9366e-04\n",
            "Epoch 95/100\n",
            "31/31 [==============================] - 0s 10ms/step - loss: 2.1352e-05 - val_loss: 5.7122e-04\n",
            "Epoch 96/100\n",
            "31/31 [==============================] - 0s 10ms/step - loss: 1.8115e-05 - val_loss: 7.1344e-04\n",
            "Epoch 97/100\n",
            "31/31 [==============================] - 0s 11ms/step - loss: 1.9588e-05 - val_loss: 3.4864e-04\n",
            "Epoch 98/100\n",
            "31/31 [==============================] - 0s 10ms/step - loss: 2.0036e-05 - val_loss: 3.9988e-04\n",
            "Epoch 99/100\n",
            "31/31 [==============================] - 0s 10ms/step - loss: 1.5804e-05 - val_loss: 6.2930e-04\n",
            "Epoch 100/100\n",
            "31/31 [==============================] - 0s 10ms/step - loss: 2.0757e-05 - val_loss: 7.3700e-04\n"
          ],
          "name": "stdout"
        }
      ]
    },
    {
      "cell_type": "markdown",
      "metadata": {
        "id": "e_SkzSFJAACI"
      },
      "source": [
        "## 4: Evaluation and Validation"
      ]
    },
    {
      "cell_type": "markdown",
      "metadata": {
        "id": "GTGko3XgVObj"
      },
      "source": [
        "Let's make predictions on our test data using the trained model."
      ]
    },
    {
      "cell_type": "code",
      "metadata": {
        "id": "rHA9U3MTACjn"
      },
      "source": [
        "# Make Predictions\n",
        "predictions = stackedLSTM.predict(test_X)"
      ],
      "execution_count": 14,
      "outputs": []
    },
    {
      "cell_type": "markdown",
      "metadata": {
        "id": "ialt8D1fVUey"
      },
      "source": [
        "Once the predictions are made, we have to inverse scale them to get back to the orignal scale."
      ]
    },
    {
      "cell_type": "code",
      "metadata": {
        "id": "cdvpXfsvAS6Y"
      },
      "source": [
        "# Reverse Scale the Values\n",
        "predictions = scaler_object.inverse_transform(predictions)"
      ],
      "execution_count": 15,
      "outputs": []
    },
    {
      "cell_type": "markdown",
      "metadata": {
        "id": "RNJXr0i0VcA4"
      },
      "source": [
        "The `RMSE` will tell us about the overall performance of the model. The lower the RMSE, the better our model will be."
      ]
    },
    {
      "cell_type": "code",
      "metadata": {
        "colab": {
          "base_uri": "https://localhost:8080/"
        },
        "id": "Exo-ZDlBAf5A",
        "outputId": "f9303876-d8ae-43c4-e79e-cf7ced023ed4"
      },
      "source": [
        "# Get Root Mean Square Error (RMSE)\n",
        "rmse = np.sqrt(np.mean(predictions - test_y) ** 2)\n",
        "print(f\"Root Mean Square Error (RMSE): {rmse}\")"
      ],
      "execution_count": 16,
      "outputs": [
        {
          "output_type": "stream",
          "text": [
            "Root Mean Square Error (RMSE): 83.21052467186236\n"
          ],
          "name": "stdout"
        }
      ]
    },
    {
      "cell_type": "markdown",
      "metadata": {
        "id": "E8ooUOgzVqFH"
      },
      "source": [
        "Now just simply plot the `ground_truth`, `validation_data` and the `predictions`."
      ]
    },
    {
      "cell_type": "code",
      "metadata": {
        "colab": {
          "base_uri": "https://localhost:8080/",
          "height": 615
        },
        "id": "dke9517GHbSe",
        "outputId": "a485eaf5-b3d4-44af-9c97-86b2c4a30dff"
      },
      "source": [
        "# Plot the data\n",
        "ground_truth = close_price_df[: training_data_amount]\n",
        "validation_data = close_price_df[training_data_amount: ]\n",
        "validation_data['Predictions'] = predictions\n",
        "plt.figure(figsize=(16, 8))\n",
        "plt.title('Model Evaluation')\n",
        "plt.xlabel('Date')\n",
        "plt.ylabel('Price USD ($)')\n",
        "plt.plot(ground_truth['Close'])\n",
        "plt.plot(validation_data[['Close', 'Predictions']])\n",
        "plt.legend(['Train', 'Validation', 'Predictions'], loc='best')\n",
        "plt.show()"
      ],
      "execution_count": 17,
      "outputs": [
        {
          "output_type": "stream",
          "text": [
            "/usr/local/lib/python3.7/dist-packages/ipykernel_launcher.py:4: SettingWithCopyWarning: \n",
            "A value is trying to be set on a copy of a slice from a DataFrame.\n",
            "Try using .loc[row_indexer,col_indexer] = value instead\n",
            "\n",
            "See the caveats in the documentation: https://pandas.pydata.org/pandas-docs/stable/user_guide/indexing.html#returning-a-view-versus-a-copy\n",
            "  after removing the cwd from sys.path.\n"
          ],
          "name": "stderr"
        },
        {
          "output_type": "display_data",
          "data": {
            "image/png": "[encoded data removed]",
            "text/plain": [
              "<Figure size 1152x576 with 1 Axes>"
            ]
          },
          "metadata": {
            "tags": [],
            "needs_background": "light"
          }
        }
      ]
    },
    {
      "cell_type": "markdown",
      "metadata": {
        "id": "qzb2AAL_X60J"
      },
      "source": [
        "## 5: Make Future Prediction"
      ]
    },
    {
      "cell_type": "markdown",
      "metadata": {
        "id": "kcn3d2WyYKF8"
      },
      "source": [
        "Now we caan use the last past 90 days data to make a prediction for the future day like `April 19, 2020`"
      ]
    },
    {
      "cell_type": "code",
      "metadata": {
        "colab": {
          "base_uri": "https://localhost:8080/"
        },
        "id": "Jed6apIjYDu_",
        "outputId": "f578db32-03eb-44e7-e16a-384f104966b4"
      },
      "source": [
        "# Get last 90 days\n",
        "last_90_days = close_price_df[-90: ].values\n",
        "\n",
        "# Scale the data\n",
        "scaled_data = scaler_object.transform(last_90_days)\n",
        "\n",
        "# Reshape the data to Rank 3 Tensor\n",
        "input_tensor = np.reshape(scaled_data, (scaled_data.shape[1], scaled_data.shape[0], 1))\n",
        "\n",
        "# Make Prediction\n",
        "predicted_price = stackedLSTM.predict(input_tensor)\n",
        "\n",
        "# Inverse the scaling\n",
        "predicted_price = scaler_object.inverse_transform(predicted_price)\n",
        "\n",
        "# Print the price\n",
        "print(f\"I think the closing price for tomorrow will be: {predicted_price}\")"
      ],
      "execution_count": 18,
      "outputs": [
        {
          "output_type": "stream",
          "text": [
            "I think the closing price for tomorrow will be: [[129.69821]]\n"
          ],
          "name": "stdout"
        }
      ]
    }
  ]
}