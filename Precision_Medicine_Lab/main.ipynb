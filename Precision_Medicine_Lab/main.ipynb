{
 "cells": [
  {
   "cell_type": "code",
   "execution_count": 1,
   "source": [
    "# Required Libraries\n",
    "import numpy as np\n",
    "import pandas as pd\n",
    "import statistics as stats\n",
    "import matplotlib.pyplot as plt\n",
    "from mpl_toolkits.mplot3d import axes3d, Axes3D\n",
    "\n",
    "from sklearn.naive_bayes import GaussianNB\n",
    "from sklearn import model_selection\n",
    "from sklearn.ensemble import RandomForestClassifier\n",
    "from sklearn.tree import DecisionTreeClassifier\n",
    "from sklearn.svm import SVC\n",
    "from sklearn.neighbors import KNeighborsClassifier\n",
    "from sklearn.linear_model import LogisticRegression\n",
    "from sklearn.model_selection import train_test_split\n",
    "from sklearn.decomposition import PCA\n",
    "from sklearn.preprocessing import StandardScaler\n",
    "from sklearn.metrics import confusion_matrix, accuracy_score, average_precision_score, f1_score, precision_score, recall_score\n",
    "\n",
    "\n",
    "# Random Seed for results reproduction\n",
    "np.random.seed(7)"
   ],
   "outputs": [],
   "metadata": {
    "ExecuteTime": {
     "end_time": "2019-09-07T12:14:54.134034Z",
     "start_time": "2019-09-07T12:14:53.089339Z"
    }
   }
  },
  {
   "cell_type": "code",
   "execution_count": 2,
   "source": [
    "# Function to check if there are any categorical variables in featureset\n",
    "def is_categorical(array_like):\n",
    "    return array_like.dtype.name == 'category'"
   ],
   "outputs": [],
   "metadata": {
    "ExecuteTime": {
     "end_time": "2019-09-07T12:14:54.139286Z",
     "start_time": "2019-09-07T12:14:54.136295Z"
    }
   }
  },
  {
   "cell_type": "code",
   "execution_count": 3,
   "source": [
    "# Load the data with tab-separation\n",
    "raw_data = pd.read_csv(\"./data/Dmel_matrix__pml.txt\", delimiter=\"\\t\", header=None)\n",
    "\n",
    "# Convert to CSV\n",
    "raw_data.to_csv()\n",
    "\n",
    "print(\"Dataset Loaded\\n\")\n",
    "print(raw_data.head())"
   ],
   "outputs": [
    {
     "output_type": "stream",
     "name": "stdout",
     "text": [
      "Dataset Loaded\n",
      "\n",
      "           0   1   2   3   4   5   6   7   8   9   ...     20     21     22  \\\n",
      "0  Refseq_001  31  44   2   3   0   7  10   4   0  ...  0.010 -0.621 -0.616   \n",
      "1  Refseq_002  13  22   0   2   0  13  21   2  16  ...  0.270  0.012  0.039   \n",
      "2  Refseq_003  62  94   4  12   4   3   9   0   7  ...  0.779  0.490  0.321   \n",
      "3  Refseq_004  11   8   2   2   2  53  93  27  35  ...  0.000  0.000  0.000   \n",
      "4  Refseq_005  41  78   0   3   0   0   0   0   0  ... -0.526 -0.502 -0.597   \n",
      "\n",
      "      23     24     25     26     27     28  29  \n",
      "0 -0.808  0.051  0.514 -0.238 -1.558 -1.825   1  \n",
      "1 -0.171  0.281 -0.079 -0.050  0.163 -0.124   1  \n",
      "2 -0.089  0.407 -0.222 -0.193 -0.361 -0.521   1  \n",
      "3  0.000  0.000  0.000  0.000  0.000  0.000   1  \n",
      "4 -0.336 -0.644 -0.385 -0.395 -0.563 -0.421   1  \n",
      "\n",
      "[5 rows x 30 columns]\n"
     ]
    }
   ],
   "metadata": {
    "ExecuteTime": {
     "end_time": "2019-09-07T12:14:54.292941Z",
     "start_time": "2019-09-07T12:14:54.141176Z"
    }
   }
  },
  {
   "cell_type": "code",
   "execution_count": 4,
   "source": [
    "# Check if data has missing values\n",
    "print(\"Missing values in data: {}\".format(data.isnull().sum().sum()))"
   ],
   "outputs": [
    {
     "output_type": "stream",
     "name": "stdout",
     "text": [
      "Missing values in data: 0\n"
     ]
    }
   ],
   "metadata": {
    "ExecuteTime": {
     "end_time": "2019-09-07T12:14:54.355980Z",
     "start_time": "2019-09-07T12:14:54.296074Z"
    }
   }
  },
  {
   "cell_type": "code",
   "execution_count": 5,
   "source": [
    "# Capture the Dependent and Independent Variable\n",
    "X = data.iloc[:, 1:-1].values  # Independent Varibale with 28 features\n",
    "y = data.iloc[:, -1].values  # Dependent Variable with 2 classes"
   ],
   "outputs": [],
   "metadata": {
    "ExecuteTime": {
     "end_time": "2019-09-07T12:14:54.453529Z",
     "start_time": "2019-09-07T12:14:54.358061Z"
    }
   }
  },
  {
   "cell_type": "code",
   "execution_count": 6,
   "source": [
    "# Checking Categorical variables\n",
    "print(\"Categorical Variables present: {}\".format(is_categorical(X)))"
   ],
   "outputs": [
    {
     "output_type": "stream",
     "name": "stdout",
     "text": [
      "Categorical Variables present: False\n"
     ]
    }
   ],
   "metadata": {
    "ExecuteTime": {
     "end_time": "2019-09-07T12:14:54.629480Z",
     "start_time": "2019-09-07T12:14:54.459602Z"
    }
   }
  },
  {
   "cell_type": "code",
   "execution_count": 7,
   "source": [
    "# Scale the Values\n",
    "sc_X = StandardScaler()\n",
    "X = sc_X.fit_transform(X)"
   ],
   "outputs": [],
   "metadata": {
    "ExecuteTime": {
     "end_time": "2019-09-07T12:14:54.844734Z",
     "start_time": "2019-09-07T12:14:54.646022Z"
    }
   }
  },
  {
   "cell_type": "code",
   "execution_count": 8,
   "source": [
    "# Plot the data\n",
    "\n",
    "# Will apply principle component analysis (PCA) for dimentionality reduction\n",
    "pca = PCA(n_components=3)  # For 3 Dimenstions\n",
    "pca_result = pca.fit_transform(X)\n",
    "print('Explained variation per principal component: {}'.format(\n",
    "    pca.explained_variance_ratio_))\n",
    "\n",
    "# 3D Plot\n",
    "ax = plt.figure(figsize=(15, 10)).gca(projection='3d')\n",
    "ax.scatter(\n",
    "    xs=pca_result[:, 0],\n",
    "    ys=pca_result[:, 1],\n",
    "    zs=pca_result[:, 2],\n",
    "    c=y\n",
    "    # cmap='tab10'\n",
    ")\n",
    "ax.set_xlabel('pca-one')\n",
    "ax.set_ylabel('pca-two')\n",
    "ax.set_zlabel('pca-three')\n",
    "plt.show()"
   ],
   "outputs": [
    {
     "output_type": "stream",
     "name": "stdout",
     "text": [
      "Explained variation per principal component: [0.21895339 0.19066294 0.13445163]\n"
     ]
    },
    {
     "output_type": "display_data",
     "data": {
      "image/png": "[encoded data removed]",
      "text/plain": [
       "<Figure size 1080x720 with 1 Axes>"
      ]
     },
     "metadata": {
      "needs_background": "light"
     }
    }
   ],
   "metadata": {
    "ExecuteTime": {
     "end_time": "2019-09-07T12:14:55.197776Z",
     "start_time": "2019-09-07T12:14:54.849105Z"
    }
   }
  },
  {
   "cell_type": "code",
   "execution_count": 9,
   "source": [
    "# Split the data in train_set and test_set\n",
    "X_train, X_test, y_train, y_test = train_test_split(\n",
    "    X, y, test_size=0.1, random_state=seed)"
   ],
   "outputs": [],
   "metadata": {
    "ExecuteTime": {
     "end_time": "2019-09-07T12:14:55.204847Z",
     "start_time": "2019-09-07T12:14:55.199613Z"
    }
   }
  },
  {
   "cell_type": "code",
   "execution_count": 10,
   "source": [
    "# 1) Logistic Regression\n",
    "classifier = LogisticRegression(random_state=seed)\n",
    "print()\n",
    "print(\"----------Training Logistic Regression----------\")\n",
    "print()\n",
    "classifier.fit(X_train, y_train)\n",
    "\n",
    "# Pridiciton of Testset\n",
    "y_pred = classifier.predict(X_test)\n",
    "\n",
    "# Confusion Matrix\n",
    "acc_score = accuracy_score(y_test, y_pred)\n",
    "apc = average_precision_score(y_test, y_pred)\n",
    "f1 = f1_score(y_test, y_pred)\n",
    "ps = precision_score(y_test, y_pred)\n",
    "rs = recall_score(y_test, y_pred)\n",
    "cm = confusion_matrix(y_test, y_pred)\n",
    "\n",
    "print('{:<23}: {:>10.2f}'.format('Accuracy Score', acc_score), sep='')\n",
    "print('{:<23}: {:>10.2f}'.format('Avarage Precision Score', apc), sep='')\n",
    "print('{:<23}: {:>10.2f}'.format('f1 Score:', f1), sep='')\n",
    "print('{:<23}: {:>10.2f}'.format('Precision Score:', ps), sep='')\n",
    "print('{:<23}: {:>10.2f}'.format('Recall Score:', rs), sep='')\n",
    "print()\n",
    "print('Confusion Matrix: {}'.format(cm))\n",
    "print()"
   ],
   "outputs": [
    {
     "output_type": "stream",
     "name": "stdout",
     "text": [
      "\n",
      "----------Training Logistic Regression----------\n",
      "\n",
      "Accuracy Score         :       0.64\n",
      "Avarage Precision Score:       0.51\n",
      "f1 Score:              :       0.63\n",
      "Precision Score:       :       0.54\n",
      "Recall Score:          :       0.76\n",
      "\n",
      "Confusion Matrix: [[14 11]\n",
      " [ 4 13]]\n",
      "\n"
     ]
    },
    {
     "output_type": "stream",
     "name": "stderr",
     "text": [
      "/home/ibtihaj/anaconda3/envs/Tensorflow/lib/python3.7/site-packages/sklearn/linear_model/logistic.py:432: FutureWarning: Default solver will be changed to 'lbfgs' in 0.22. Specify a solver to silence this warning.\n",
      "  FutureWarning)\n"
     ]
    }
   ],
   "metadata": {
    "ExecuteTime": {
     "end_time": "2019-09-07T12:14:55.314240Z",
     "start_time": "2019-09-07T12:14:55.207630Z"
    }
   }
  },
  {
   "cell_type": "code",
   "execution_count": 11,
   "source": [
    "# 2) k-NN\n",
    "classifier = KNeighborsClassifier(n_neighbors=5)  # using 5 neighbors\n",
    "print()\n",
    "print(\"----------Training k-NN----------\")\n",
    "print()\n",
    "classifier.fit(X_train, y_train)\n",
    "\n",
    "# Pridiciton of Testset\n",
    "y_pred = classifier.predict(X_test)\n",
    "\n",
    "# Confusion Matrix\n",
    "acc_score = accuracy_score(y_test, y_pred)\n",
    "apc = average_precision_score(y_test, y_pred)\n",
    "f1 = f1_score(y_test, y_pred)\n",
    "ps = precision_score(y_test, y_pred)\n",
    "rs = recall_score(y_test, y_pred)\n",
    "cm = confusion_matrix(y_test, y_pred)\n",
    "\n",
    "print('{:<23}: {:>10.2f}'.format('Accuracy Score', acc_score), sep='')\n",
    "print('{:<23}: {:>10.2f}'.format('Avarage Precision Score', apc), sep='')\n",
    "print('{:<23}: {:>10.2f}'.format('f1 Score:', f1), sep='')\n",
    "print('{:<23}: {:>10.2f}'.format('Precision Score:', ps), sep='')\n",
    "print('{:<23}: {:>10.2f}'.format('Recall Score:', rs), sep='')\n",
    "print()\n",
    "print('Confusion Matrix: {}'.format(cm))\n",
    "print()"
   ],
   "outputs": [
    {
     "output_type": "stream",
     "name": "stdout",
     "text": [
      "\n",
      "----------Training k-NN----------\n",
      "\n",
      "Accuracy Score         :       0.43\n",
      "Avarage Precision Score:       0.38\n",
      "f1 Score:              :       0.40\n",
      "Precision Score:       :       0.35\n",
      "Recall Score:          :       0.47\n",
      "\n",
      "Confusion Matrix: [[10 15]\n",
      " [ 9  8]]\n",
      "\n"
     ]
    }
   ],
   "metadata": {
    "ExecuteTime": {
     "end_time": "2019-09-07T12:14:55.410371Z",
     "start_time": "2019-09-07T12:14:55.318784Z"
    }
   }
  },
  {
   "cell_type": "code",
   "execution_count": 12,
   "source": [
    "# 3) Support Vector Mahcine (SVM)\n",
    "classifier = SVC(random_state=seed)\n",
    "print()\n",
    "print(\"----------Training SVM----------\")\n",
    "print()\n",
    "classifier.fit(X_train, y_train)\n",
    "\n",
    "# Pridiciton of Testset\n",
    "y_pred = classifier.predict(X_test)\n",
    "\n",
    "# Confusion Matrix\n",
    "acc_score = accuracy_score(y_test, y_pred)\n",
    "apc = average_precision_score(y_test, y_pred)\n",
    "f1 = f1_score(y_test, y_pred)\n",
    "ps = precision_score(y_test, y_pred)\n",
    "rs = recall_score(y_test, y_pred)\n",
    "cm = confusion_matrix(y_test, y_pred)\n",
    "\n",
    "print('{:<23}: {:>10.2f}'.format('Accuracy Score', acc_score), sep='')\n",
    "print('{:<23}: {:>10.2f}'.format('Avarage Precision Score', apc), sep='')\n",
    "print('{:<23}: {:>10.2f}'.format('f1 Score:', f1), sep='')\n",
    "print('{:<23}: {:>10.2f}'.format('Precision Score:', ps), sep='')\n",
    "print('{:<23}: {:>10.2f}'.format('Recall Score:', rs), sep='')\n",
    "print()\n",
    "print('Confusion Matrix: {}'.format(cm))\n",
    "print()"
   ],
   "outputs": [
    {
     "output_type": "stream",
     "name": "stdout",
     "text": [
      "\n",
      "----------Training SVM----------\n",
      "\n"
     ]
    },
    {
     "output_type": "stream",
     "name": "stderr",
     "text": [
      "/home/ibtihaj/anaconda3/envs/Tensorflow/lib/python3.7/site-packages/sklearn/svm/base.py:193: FutureWarning: The default value of gamma will change from 'auto' to 'scale' in version 0.22 to account better for unscaled features. Set gamma explicitly to 'auto' or 'scale' to avoid this warning.\n",
      "  \"avoid this warning.\", FutureWarning)\n"
     ]
    },
    {
     "output_type": "stream",
     "name": "stdout",
     "text": [
      "Accuracy Score         :       0.55\n",
      "Avarage Precision Score:       0.44\n",
      "f1 Score:              :       0.54\n",
      "Precision Score:       :       0.46\n",
      "Recall Score:          :       0.65\n",
      "\n",
      "Confusion Matrix: [[12 13]\n",
      " [ 6 11]]\n",
      "\n"
     ]
    }
   ],
   "metadata": {
    "ExecuteTime": {
     "end_time": "2019-09-07T12:14:55.545064Z",
     "start_time": "2019-09-07T12:14:55.414686Z"
    }
   }
  },
  {
   "cell_type": "code",
   "execution_count": 13,
   "source": [
    "# 4) Decision Trees\n",
    "classifier = DecisionTreeClassifier(random_state=seed)\n",
    "print()\n",
    "print(\"----------Training Decision Trees----------\")\n",
    "print()\n",
    "classifier.fit(X_train, y_train)\n",
    "\n",
    "# Pridiciton of Testset\n",
    "y_pred = classifier.predict(X_test)\n",
    "\n",
    "# Confusion Matrix\n",
    "acc_score = accuracy_score(y_test, y_pred)\n",
    "apc = average_precision_score(y_test, y_pred)\n",
    "f1 = f1_score(y_test, y_pred)\n",
    "ps = precision_score(y_test, y_pred)\n",
    "rs = recall_score(y_test, y_pred)\n",
    "cm = confusion_matrix(y_test, y_pred)\n",
    "\n",
    "print('{:<23}: {:>10.2f}'.format('Accuracy Score', acc_score), sep='')\n",
    "print('{:<23}: {:>10.2f}'.format('Avarage Precision Score', apc), sep='')\n",
    "print('{:<23}: {:>10.2f}'.format('f1 Score:', f1), sep='')\n",
    "print('{:<23}: {:>10.2f}'.format('Precision Score:', ps), sep='')\n",
    "print('{:<23}: {:>10.2f}'.format('Recall Score:', rs), sep='')\n",
    "print()\n",
    "print('Confusion Matrix: {}'.format(cm))\n",
    "print()"
   ],
   "outputs": [
    {
     "output_type": "stream",
     "name": "stdout",
     "text": [
      "\n",
      "----------Training Decision Trees----------\n",
      "\n",
      "Accuracy Score         :       0.55\n",
      "Avarage Precision Score:       0.43\n",
      "f1 Score:              :       0.51\n",
      "Precision Score:       :       0.45\n",
      "Recall Score:          :       0.59\n",
      "\n",
      "Confusion Matrix: [[13 12]\n",
      " [ 7 10]]\n",
      "\n"
     ]
    }
   ],
   "metadata": {
    "ExecuteTime": {
     "end_time": "2019-09-07T12:14:55.605716Z",
     "start_time": "2019-09-07T12:14:55.548293Z"
    }
   }
  },
  {
   "cell_type": "code",
   "execution_count": 14,
   "source": [
    "# 5) Random Forest\n",
    "classifier = RandomForestClassifier(random_state=0)\n",
    "print()\n",
    "print(\"----------Training Random Forest----------\")\n",
    "print()\n",
    "classifier.fit(X_train, y_train)\n",
    "\n",
    "# Pridiciton of Testset\n",
    "y_pred = classifier.predict(X_test)\n",
    "\n",
    "# Confusion Matrix\n",
    "acc_score = accuracy_score(y_test, y_pred)\n",
    "apc = average_precision_score(y_test, y_pred)\n",
    "f1 = f1_score(y_test, y_pred)\n",
    "ps = precision_score(y_test, y_pred)\n",
    "rs = recall_score(y_test, y_pred)\n",
    "cm = confusion_matrix(y_test, y_pred)\n",
    "\n",
    "print('{:<23}: {:>10.2f}'.format('Accuracy Score', acc_score), sep='')\n",
    "print('{:<23}: {:>10.2f}'.format('Avarage Precision Score', apc), sep='')\n",
    "print('{:<23}: {:>10.2f}'.format('f1 Score:', f1), sep='')\n",
    "print('{:<23}: {:>10.2f}'.format('Precision Score:', ps), sep='')\n",
    "print('{:<23}: {:>10.2f}'.format('Recall Score:', rs), sep='')\n",
    "print()\n",
    "print('Confusion Matrix: {}'.format(cm))\n",
    "print()"
   ],
   "outputs": [
    {
     "output_type": "stream",
     "name": "stdout",
     "text": [
      "\n",
      "----------Training Random Forest----------\n",
      "\n"
     ]
    },
    {
     "output_type": "stream",
     "name": "stderr",
     "text": [
      "/home/ibtihaj/anaconda3/envs/Tensorflow/lib/python3.7/site-packages/sklearn/ensemble/forest.py:245: FutureWarning: The default value of n_estimators will change from 10 in version 0.20 to 100 in 0.22.\n",
      "  \"10 in version 0.20 to 100 in 0.22.\", FutureWarning)\n"
     ]
    },
    {
     "output_type": "stream",
     "name": "stdout",
     "text": [
      "Accuracy Score         :       0.45\n",
      "Avarage Precision Score:       0.39\n",
      "f1 Score:              :       0.41\n",
      "Precision Score:       :       0.36\n",
      "Recall Score:          :       0.47\n",
      "\n",
      "Confusion Matrix: [[11 14]\n",
      " [ 9  8]]\n",
      "\n"
     ]
    }
   ],
   "metadata": {
    "ExecuteTime": {
     "end_time": "2019-09-07T12:14:55.755092Z",
     "start_time": "2019-09-07T12:14:55.608904Z"
    }
   }
  },
  {
   "cell_type": "code",
   "execution_count": 15,
   "source": [
    "# 6) Naive Bayes\n",
    "classifier = GaussianNB()\n",
    "print()\n",
    "print(\"----------Training Naive Bayes----------\")\n",
    "print()\n",
    "classifier.fit(X_train, y_train)\n",
    "\n",
    "# Pridiciton of Testset\n",
    "y_pred = classifier.predict(X_test)\n",
    "\n",
    "# Confusion Matrix\n",
    "acc_score = accuracy_score(y_test, y_pred)\n",
    "apc = average_precision_score(y_test, y_pred)\n",
    "f1 = f1_score(y_test, y_pred)\n",
    "ps = precision_score(y_test, y_pred)\n",
    "rs = recall_score(y_test, y_pred)\n",
    "cm = confusion_matrix(y_test, y_pred)\n",
    "\n",
    "print('{:<23}: {:>10.2f}'.format('Accuracy Score', acc_score), sep='')\n",
    "print('{:<23}: {:>10.2f}'.format('Avarage Precision Score', apc), sep='')\n",
    "print('{:<23}: {:>10.2f}'.format('f1 Score:', f1), sep='')\n",
    "print('{:<23}: {:>10.2f}'.format('Precision Score:', ps), sep='')\n",
    "print('{:<23}: {:>10.2f}'.format('Recall Score:', rs), sep='')\n",
    "print()\n",
    "print('Confusion Matrix: {}'.format(cm))\n",
    "print()"
   ],
   "outputs": [
    {
     "output_type": "stream",
     "name": "stdout",
     "text": [
      "\n",
      "----------Training Naive Bayes----------\n",
      "\n",
      "Accuracy Score         :       0.38\n",
      "Avarage Precision Score:       0.36\n",
      "f1 Score:              :       0.24\n",
      "Precision Score:       :       0.24\n",
      "Recall Score:          :       0.24\n",
      "\n",
      "Confusion Matrix: [[12 13]\n",
      " [13  4]]\n",
      "\n"
     ]
    }
   ],
   "metadata": {
    "ExecuteTime": {
     "end_time": "2019-09-07T12:14:55.812643Z",
     "start_time": "2019-09-07T12:14:55.761118Z"
    }
   }
  },
  {
   "cell_type": "code",
   "execution_count": 16,
   "source": [
    "models = []\n",
    "models.append(('LR', LogisticRegression()))\n",
    "models.append(('KNN', KNeighborsClassifier()))\n",
    "models.append(('SVM', SVC()))\n",
    "models.append(('CART', DecisionTreeClassifier()))\n",
    "models.append(('RF', RandomForestClassifier()))\n",
    "models.append(('NB', GaussianNB()))"
   ],
   "outputs": [],
   "metadata": {
    "ExecuteTime": {
     "end_time": "2019-09-07T12:14:55.915434Z",
     "start_time": "2019-09-07T12:14:55.819099Z"
    }
   }
  },
  {
   "cell_type": "code",
   "execution_count": 17,
   "source": [
    "results = []\n",
    "names = []\n",
    "scoring = 'accuracy'\n",
    "for name, model in models:\n",
    "\tkfold = model_selection.KFold(n_splits=7, random_state=seed)\n",
    "\tcv_results = model_selection.cross_val_score(model, X, y, cv=kfold, scoring=scoring)\n",
    "\tresults.append(cv_results)\n",
    "\tnames.append(name)\n",
    "\tmsg = \"%s: %f (%f)\" % (name, cv_results.mean(), cv_results.std())\n",
    "\tprint(msg)\n",
    "# boxplot algorithm comparison\n",
    "fig = plt.figure()\n",
    "fig.suptitle('Algorithm Comparison')\n",
    "ax = fig.add_subplot(111)\n",
    "plt.boxplot(results)\n",
    "ax.set_xticklabels(names)\n",
    "plt.savefig('Result.png')"
   ],
   "outputs": [
    {
     "output_type": "stream",
     "name": "stderr",
     "text": [
      "/home/ibtihaj/anaconda3/envs/Tensorflow/lib/python3.7/site-packages/sklearn/linear_model/logistic.py:432: FutureWarning: Default solver will be changed to 'lbfgs' in 0.22. Specify a solver to silence this warning.\n",
      "  FutureWarning)\n",
      "/home/ibtihaj/anaconda3/envs/Tensorflow/lib/python3.7/site-packages/sklearn/linear_model/logistic.py:432: FutureWarning: Default solver will be changed to 'lbfgs' in 0.22. Specify a solver to silence this warning.\n",
      "  FutureWarning)\n",
      "/home/ibtihaj/anaconda3/envs/Tensorflow/lib/python3.7/site-packages/sklearn/linear_model/logistic.py:432: FutureWarning: Default solver will be changed to 'lbfgs' in 0.22. Specify a solver to silence this warning.\n",
      "  FutureWarning)\n",
      "/home/ibtihaj/anaconda3/envs/Tensorflow/lib/python3.7/site-packages/sklearn/linear_model/logistic.py:432: FutureWarning: Default solver will be changed to 'lbfgs' in 0.22. Specify a solver to silence this warning.\n",
      "  FutureWarning)\n",
      "/home/ibtihaj/anaconda3/envs/Tensorflow/lib/python3.7/site-packages/sklearn/linear_model/logistic.py:432: FutureWarning: Default solver will be changed to 'lbfgs' in 0.22. Specify a solver to silence this warning.\n",
      "  FutureWarning)\n",
      "/home/ibtihaj/anaconda3/envs/Tensorflow/lib/python3.7/site-packages/sklearn/linear_model/logistic.py:432: FutureWarning: Default solver will be changed to 'lbfgs' in 0.22. Specify a solver to silence this warning.\n",
      "  FutureWarning)\n",
      "/home/ibtihaj/anaconda3/envs/Tensorflow/lib/python3.7/site-packages/sklearn/linear_model/logistic.py:432: FutureWarning: Default solver will be changed to 'lbfgs' in 0.22. Specify a solver to silence this warning.\n",
      "  FutureWarning)\n",
      "/home/ibtihaj/anaconda3/envs/Tensorflow/lib/python3.7/site-packages/sklearn/svm/base.py:193: FutureWarning: The default value of gamma will change from 'auto' to 'scale' in version 0.22 to account better for unscaled features. Set gamma explicitly to 'auto' or 'scale' to avoid this warning.\n",
      "  \"avoid this warning.\", FutureWarning)\n",
      "/home/ibtihaj/anaconda3/envs/Tensorflow/lib/python3.7/site-packages/sklearn/svm/base.py:193: FutureWarning: The default value of gamma will change from 'auto' to 'scale' in version 0.22 to account better for unscaled features. Set gamma explicitly to 'auto' or 'scale' to avoid this warning.\n",
      "  \"avoid this warning.\", FutureWarning)\n",
      "/home/ibtihaj/anaconda3/envs/Tensorflow/lib/python3.7/site-packages/sklearn/svm/base.py:193: FutureWarning: The default value of gamma will change from 'auto' to 'scale' in version 0.22 to account better for unscaled features. Set gamma explicitly to 'auto' or 'scale' to avoid this warning.\n",
      "  \"avoid this warning.\", FutureWarning)\n",
      "/home/ibtihaj/anaconda3/envs/Tensorflow/lib/python3.7/site-packages/sklearn/svm/base.py:193: FutureWarning: The default value of gamma will change from 'auto' to 'scale' in version 0.22 to account better for unscaled features. Set gamma explicitly to 'auto' or 'scale' to avoid this warning.\n",
      "  \"avoid this warning.\", FutureWarning)\n",
      "/home/ibtihaj/anaconda3/envs/Tensorflow/lib/python3.7/site-packages/sklearn/svm/base.py:193: FutureWarning: The default value of gamma will change from 'auto' to 'scale' in version 0.22 to account better for unscaled features. Set gamma explicitly to 'auto' or 'scale' to avoid this warning.\n",
      "  \"avoid this warning.\", FutureWarning)\n",
      "/home/ibtihaj/anaconda3/envs/Tensorflow/lib/python3.7/site-packages/sklearn/svm/base.py:193: FutureWarning: The default value of gamma will change from 'auto' to 'scale' in version 0.22 to account better for unscaled features. Set gamma explicitly to 'auto' or 'scale' to avoid this warning.\n",
      "  \"avoid this warning.\", FutureWarning)\n",
      "/home/ibtihaj/anaconda3/envs/Tensorflow/lib/python3.7/site-packages/sklearn/svm/base.py:193: FutureWarning: The default value of gamma will change from 'auto' to 'scale' in version 0.22 to account better for unscaled features. Set gamma explicitly to 'auto' or 'scale' to avoid this warning.\n",
      "  \"avoid this warning.\", FutureWarning)\n"
     ]
    },
    {
     "output_type": "stream",
     "name": "stdout",
     "text": [
      "LR: 0.335795 (0.067810)\n",
      "KNN: 0.352744 (0.071050)\n",
      "SVM: 0.285593 (0.097935)\n",
      "CART: 0.446207 (0.086545)\n"
     ]
    },
    {
     "output_type": "stream",
     "name": "stderr",
     "text": [
      "/home/ibtihaj/anaconda3/envs/Tensorflow/lib/python3.7/site-packages/sklearn/ensemble/forest.py:245: FutureWarning: The default value of n_estimators will change from 10 in version 0.20 to 100 in 0.22.\n",
      "  \"10 in version 0.20 to 100 in 0.22.\", FutureWarning)\n",
      "/home/ibtihaj/anaconda3/envs/Tensorflow/lib/python3.7/site-packages/sklearn/ensemble/forest.py:245: FutureWarning: The default value of n_estimators will change from 10 in version 0.20 to 100 in 0.22.\n",
      "  \"10 in version 0.20 to 100 in 0.22.\", FutureWarning)\n",
      "/home/ibtihaj/anaconda3/envs/Tensorflow/lib/python3.7/site-packages/sklearn/ensemble/forest.py:245: FutureWarning: The default value of n_estimators will change from 10 in version 0.20 to 100 in 0.22.\n",
      "  \"10 in version 0.20 to 100 in 0.22.\", FutureWarning)\n",
      "/home/ibtihaj/anaconda3/envs/Tensorflow/lib/python3.7/site-packages/sklearn/ensemble/forest.py:245: FutureWarning: The default value of n_estimators will change from 10 in version 0.20 to 100 in 0.22.\n",
      "  \"10 in version 0.20 to 100 in 0.22.\", FutureWarning)\n",
      "/home/ibtihaj/anaconda3/envs/Tensorflow/lib/python3.7/site-packages/sklearn/ensemble/forest.py:245: FutureWarning: The default value of n_estimators will change from 10 in version 0.20 to 100 in 0.22.\n",
      "  \"10 in version 0.20 to 100 in 0.22.\", FutureWarning)\n",
      "/home/ibtihaj/anaconda3/envs/Tensorflow/lib/python3.7/site-packages/sklearn/ensemble/forest.py:245: FutureWarning: The default value of n_estimators will change from 10 in version 0.20 to 100 in 0.22.\n",
      "  \"10 in version 0.20 to 100 in 0.22.\", FutureWarning)\n",
      "/home/ibtihaj/anaconda3/envs/Tensorflow/lib/python3.7/site-packages/sklearn/ensemble/forest.py:245: FutureWarning: The default value of n_estimators will change from 10 in version 0.20 to 100 in 0.22.\n",
      "  \"10 in version 0.20 to 100 in 0.22.\", FutureWarning)\n"
     ]
    },
    {
     "output_type": "stream",
     "name": "stdout",
     "text": [
      "RF: 0.396570 (0.150847)\n",
      "NB: 0.427563 (0.156480)\n"
     ]
    },
    {
     "output_type": "display_data",
     "data": {
      "image/png": "[encoded data removed]",
      "text/plain": [
       "<Figure size 432x288 with 1 Axes>"
      ]
     },
     "metadata": {
      "needs_background": "light"
     }
    }
   ],
   "metadata": {
    "ExecuteTime": {
     "end_time": "2019-09-07T12:14:56.632457Z",
     "start_time": "2019-09-07T12:14:55.917520Z"
    }
   }
  },
  {
   "cell_type": "code",
   "execution_count": 18,
   "source": [
    "csv_dict = dict()\n",
    "\n",
    "for name, result in zip(names, results):\n",
    "    if name not in csv_dict.keys():\n",
    "        stats = []\n",
    "        stats.append(min(result))\n",
    "        stats.append(statistics.median(result))\n",
    "        stats.append(max(result))\n",
    "        stats.append(statistics.variance(result))\n",
    "        stats.append(statistics.stdev(result))\n",
    "        \n",
    "        csv_dict[name] = stats"
   ],
   "outputs": [],
   "metadata": {
    "ExecuteTime": {
     "end_time": "2019-09-07T12:14:56.649740Z",
     "start_time": "2019-09-07T12:14:56.634980Z"
    }
   }
  },
  {
   "cell_type": "code",
   "execution_count": null,
   "source": [],
   "outputs": [],
   "metadata": {}
  }
 ],
 "metadata": {
  "kernelspec": {
   "name": "python3",
   "display_name": "Python 3.8.11 64-bit ('base': conda)"
  },
  "language_info": {
   "codemirror_mode": {
    "name": "ipython",
    "version": 3
   },
   "file_extension": ".py",
   "mimetype": "text/x-python",
   "name": "python",
   "nbconvert_exporter": "python",
   "pygments_lexer": "ipython3",
   "version": "3.8.11"
  },
  "varInspector": {
   "cols": {
    "lenName": 16,
    "lenType": 16,
    "lenVar": 40
   },
   "kernels_config": {
    "python": {
     "delete_cmd_postfix": "",
     "delete_cmd_prefix": "del ",
     "library": "var_list.py",
     "varRefreshCmd": "print(var_dic_list())"
    },
    "r": {
     "delete_cmd_postfix": ") ",
     "delete_cmd_prefix": "rm(",
     "library": "var_list.r",
     "varRefreshCmd": "cat(var_dic_list()) "
    }
   },
   "position": {
    "height": "509px",
    "left": "342px",
    "right": "20px",
    "top": "66px",
    "width": "800px"
   },
   "types_to_exclude": [
    "module",
    "function",
    "builtin_function_or_method",
    "instance",
    "_Feature"
   ],
   "window_display": false
  },
  "interpreter": {
   "hash": "cbc0418aa03ea982be8c820a4d1fad767ad72efb8e4886e9174d7024cb5da8bf"
  }
 },
 "nbformat": 4,
 "nbformat_minor": 2
}